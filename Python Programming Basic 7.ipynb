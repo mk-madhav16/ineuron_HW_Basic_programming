{
 "cells": [
  {
   "cell_type": "code",
   "execution_count": null,
   "id": "0e27e085",
   "metadata": {},
   "outputs": [],
   "source": [
    "#1. Write a Python Program to find sum of Array ?"
   ]
  },
  {
   "cell_type": "code",
   "execution_count": 6,
   "id": "dec29274",
   "metadata": {},
   "outputs": [
    {
     "name": "stdout",
     "output_type": "stream",
     "text": [
      "Enter an Array: [1,5,6,87]\n",
      "The sum of [1, 5, 6, 87] is 99\n"
     ]
    }
   ],
   "source": [
    "#Ans_1\n",
    "def sum_Array():\n",
    "    arr = eval(input(\"Enter an Array: \"))\n",
    "    print(f'The sum of {arr} is {sum(arr)}')\n",
    "\n",
    "sum_Array()"
   ]
  },
  {
   "cell_type": "code",
   "execution_count": null,
   "id": "f4c94b38",
   "metadata": {},
   "outputs": [],
   "source": [
    "#2. Write a Python Program to find Largest element in an Array ?"
   ]
  },
  {
   "cell_type": "code",
   "execution_count": 7,
   "id": "d2c762a8",
   "metadata": {},
   "outputs": [
    {
     "name": "stdout",
     "output_type": "stream",
     "text": [
      "Enter an Array: [1,5,6,87]\n",
      "The Largest Element in [1, 5, 6, 87] is 87\n"
     ]
    }
   ],
   "source": [
    "#Ans_2\n",
    "def largest_Element():\n",
    "    arr = eval(input(\"Enter an Array: \"))\n",
    "    print(f\"The Largest Element in {arr} is {sorted(arr, reverse=True)[0]}\")\n",
    "    \n",
    "largest_Element()"
   ]
  },
  {
   "cell_type": "code",
   "execution_count": null,
   "id": "55252c63",
   "metadata": {},
   "outputs": [],
   "source": [
    "#3. Write a Python Program for array rotation ?"
   ]
  },
  {
   "cell_type": "code",
   "execution_count": 9,
   "id": "0e695836",
   "metadata": {},
   "outputs": [
    {
     "name": "stdout",
     "output_type": "stream",
     "text": [
      "Enter the Array: [1,5,6,87]\n",
      "The Reverse of Array [1, 5, 6, 87] is [87, 6, 5, 1]\n"
     ]
    }
   ],
   "source": [
    "#Ans_3\n",
    "def reverse_Array():\n",
    "    arr = eval(input(\"Enter the Array: \"))\n",
    "    print(f\"The Reverse of Array {arr} is {arr[::-1]}\")\n",
    "    \n",
    "reverse_Array()"
   ]
  },
  {
   "cell_type": "code",
   "execution_count": null,
   "id": "40572e96",
   "metadata": {},
   "outputs": [],
   "source": [
    "#4. Write a Python Program to Split the array and add the first part to the end ?"
   ]
  },
  {
   "cell_type": "code",
   "execution_count": 10,
   "id": "d1b3e3a0",
   "metadata": {},
   "outputs": [
    {
     "name": "stdout",
     "output_type": "stream",
     "text": [
      "Enter the Array: [1,5,6,87]\n",
      "The Sum of First and Last Elements of Array [1, 5, 6, 87] is 88\n"
     ]
    }
   ],
   "source": [
    "#Ans_4\n",
    "def sum_Splits():\n",
    "    arr = eval(input(\"Enter the Array: \"))\n",
    "    print(f\"The Sum of First and Last Elements of Array {arr} is {arr[0]+arr[-1]}\")\n",
    "    \n",
    "sum_Splits()"
   ]
  },
  {
   "cell_type": "code",
   "execution_count": null,
   "id": "45ec5e9c",
   "metadata": {},
   "outputs": [],
   "source": [
    "#5. Write a Python Program to check if given array is Monotonic ?"
   ]
  },
  {
   "cell_type": "code",
   "execution_count": 11,
   "id": "6abe0b5a",
   "metadata": {},
   "outputs": [
    {
     "name": "stdout",
     "output_type": "stream",
     "text": [
      "Enter the Array: [1,5,6,87]\n",
      "Array [1, 5, 6, 87] is Monotonic\n"
     ]
    }
   ],
   "source": [
    "#Ans_5\n",
    "def check_Mono():\n",
    "    arr = eval(input(\"Enter the Array: \"))\n",
    "    if(all(arr[i]<=arr[i+1] for i in range(len(arr)-1)) or all(arr[i]>=arr[i+1] for i in range(len(arr)-1))):\n",
    "        print(f'Array {arr} is Monotonic')\n",
    "    else:\n",
    "        print(f'Array {arr} is Not Monotonic')\n",
    "\n",
    "check_Mono()"
   ]
  },
  {
   "cell_type": "code",
   "execution_count": null,
   "id": "d6871bc7",
   "metadata": {},
   "outputs": [],
   "source": []
  }
 ],
 "metadata": {
  "kernelspec": {
   "display_name": "Python 3",
   "language": "python",
   "name": "python3"
  },
  "language_info": {
   "codemirror_mode": {
    "name": "ipython",
    "version": 3
   },
   "file_extension": ".py",
   "mimetype": "text/x-python",
   "name": "python",
   "nbconvert_exporter": "python",
   "pygments_lexer": "ipython3",
   "version": "3.8.8"
  }
 },
 "nbformat": 4,
 "nbformat_minor": 5
}
