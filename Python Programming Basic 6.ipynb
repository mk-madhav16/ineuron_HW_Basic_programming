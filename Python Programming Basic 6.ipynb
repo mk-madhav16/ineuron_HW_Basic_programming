{
 "cells": [
  {
   "cell_type": "code",
   "execution_count": null,
   "id": "4b0ca83e",
   "metadata": {},
   "outputs": [],
   "source": [
    "#1. Write a Python Program to Display Fibonacci Sequence using Recursion ?"
   ]
  },
  {
   "cell_type": "code",
   "execution_count": 5,
   "id": "13308b0e",
   "metadata": {},
   "outputs": [
    {
     "name": "stdout",
     "output_type": "stream",
     "text": [
      "Enter the length of Series: 5\n",
      "0, 1, 3, 5, 8, 13, 21, "
     ]
    }
   ],
   "source": [
    "#Ans_1\n",
    "def gen_Fibonacci(n,a,b):\n",
    "    if n == 0:\n",
    "        return 1\n",
    "    else:\n",
    "        x = a+b\n",
    "        print(x, end=', ')\n",
    "        gen_Fibonacci(n-1,b,x)\n",
    "num = int(input('Enter the length of Series: '))\n",
    "print('0, 1',end=', ')\n",
    "\n",
    "gen_Fibonacci(num,1,2)"
   ]
  },
  {
   "cell_type": "code",
   "execution_count": null,
   "id": "c0a99b60",
   "metadata": {},
   "outputs": [],
   "source": [
    "#2. Write a Python Program to Find Factorial of a Number using Recursion ?"
   ]
  },
  {
   "cell_type": "code",
   "execution_count": 11,
   "id": "f7ec8857",
   "metadata": {},
   "outputs": [
    {
     "name": "stdout",
     "output_type": "stream",
     "text": [
      "Enter a number: 8\n",
      "The Factorial of 8 is 40320\n"
     ]
    }
   ],
   "source": [
    "#Ans_2\n",
    "def factorial(i):\n",
    "    if (i < 1):\n",
    "        return 1\n",
    "    else:\n",
    "        return i*factorial(i-1)\n",
    "i = int(input('Enter a number: '))\n",
    "value = factorial(i)\n",
    "print(f'The Factorial of {i} is {value}')"
   ]
  },
  {
   "cell_type": "code",
   "execution_count": null,
   "id": "8ea283dd",
   "metadata": {},
   "outputs": [],
   "source": [
    "#3. Write a Python Program to Calculate your Body Mass Index ?"
   ]
  },
  {
   "cell_type": "code",
   "execution_count": 12,
   "id": "174501d6",
   "metadata": {},
   "outputs": [
    {
     "name": "stdout",
     "output_type": "stream",
     "text": [
      "Enter your Weight(kgs): 55\n",
      "Enter your Height(mts): 4\n",
      "Your're BMI is 3.4375 and status is Underweight \n"
     ]
    }
   ],
   "source": [
    "#Ans_3\n",
    "def cal_BMI():\n",
    "    weight = eval(input('Enter your Weight(kgs): '))\n",
    "    height = eval(input('Enter your Height(mts): '))\n",
    "    calc_bmi = weight/pow(height,2)\n",
    "    if (calc_bmi < 18.5):\n",
    "        status = 'Underweight'\n",
    "    elif (calc_bmi >= 18.5 and calc_bmi < 24.9):\n",
    "        status = 'Healthy'\n",
    "    elif (calc_bmi >= 24.9 and calc_bmi < 30):\n",
    "        status = 'Overweight'\n",
    "    elif (calc_bmi >=30):\n",
    "        status = 'Suffering from Obesity'\n",
    "    print(f'Your\\'re BMI is {calc_bmi} and status is {status} ')\n",
    "cal_BMI()"
   ]
  },
  {
   "cell_type": "code",
   "execution_count": null,
   "id": "bb25f9d9",
   "metadata": {},
   "outputs": [],
   "source": [
    "#4. Write a Python Program to Calculate the Natural Logarithm of any Number ?"
   ]
  },
  {
   "cell_type": "code",
   "execution_count": 15,
   "id": "a942cee9",
   "metadata": {},
   "outputs": [
    {
     "name": "stdout",
     "output_type": "stream",
     "text": [
      "Enter a No.:85\n",
      "4.442651256490317\n"
     ]
    }
   ],
   "source": [
    "#Ans_4\n",
    "import math\n",
    "def gen_Log():\n",
    "    in_num = eval(input(\"Enter a No.:\"))\n",
    "    print(math.log(in_num))\n",
    "\n",
    "gen_Log()"
   ]
  },
  {
   "cell_type": "code",
   "execution_count": null,
   "id": "8b0a7068",
   "metadata": {},
   "outputs": [],
   "source": [
    "#5. Write a Python Program for Cube sum of first n Natural Numbers ?"
   ]
  },
  {
   "cell_type": "code",
   "execution_count": 16,
   "id": "3e4e9cd0",
   "metadata": {},
   "outputs": [
    {
     "name": "stdout",
     "output_type": "stream",
     "text": [
      "Enter the no of Natural No.: 24\n",
      "The Cube Sum of First 24 Natural No. is 90000.0\n"
     ]
    }
   ],
   "source": [
    "#Ans_5\n",
    "def cube_Number():\n",
    "    in_num = int(input(\"Enter the no of Natural No.: \"))\n",
    "    result = pow(((in_num * (in_num +1))/2),2)\n",
    "    print(f'The Cube Sum of First {in_num} Natural No. is {result}')\n",
    "\n",
    "cube_Number()"
   ]
  },
  {
   "cell_type": "code",
   "execution_count": null,
   "id": "9864d582",
   "metadata": {},
   "outputs": [],
   "source": []
  }
 ],
 "metadata": {
  "kernelspec": {
   "display_name": "Python 3",
   "language": "python",
   "name": "python3"
  },
  "language_info": {
   "codemirror_mode": {
    "name": "ipython",
    "version": 3
   },
   "file_extension": ".py",
   "mimetype": "text/x-python",
   "name": "python",
   "nbconvert_exporter": "python",
   "pygments_lexer": "ipython3",
   "version": "3.8.8"
  }
 },
 "nbformat": 4,
 "nbformat_minor": 5
}
