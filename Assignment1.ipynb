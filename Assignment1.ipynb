{
 "cells": [
  {
   "cell_type": "code",
   "execution_count": 2,
   "id": "94fc52b8",
   "metadata": {},
   "outputs": [
    {
     "name": "stdout",
     "output_type": "stream",
     "text": [
      "Hello Python\n"
     ]
    }
   ],
   "source": [
    "#Q1 Program to print \"Hello Python\"\n",
    "print(\"Hello Python\")"
   ]
  },
  {
   "cell_type": "code",
   "execution_count": 11,
   "id": "df914dff",
   "metadata": {},
   "outputs": [
    {
     "name": "stdout",
     "output_type": "stream",
     "text": [
      "Enter value 1: 20\n",
      "Enter value 2: 4\n",
      "Addition:  24\n",
      "Division:  5.0\n"
     ]
    }
   ],
   "source": [
    "#Q2 Program to do arithmetical operations addition & division\n",
    "var1 = int(input(\"Enter value 1: \"))\n",
    "var2 = int(input(\"Enter value 2: \"))\n",
    "\n",
    "print(\"Addition: \", (var1+var2))\n",
    "print(\"Division: \", (var1/var2))"
   ]
  },
  {
   "cell_type": "code",
   "execution_count": 12,
   "id": "e65c668b",
   "metadata": {},
   "outputs": [
    {
     "name": "stdout",
     "output_type": "stream",
     "text": [
      "Enter value of base: 4\n",
      "Enter value of Height: 5\n",
      "Area of Triangle:  10.0\n"
     ]
    }
   ],
   "source": [
    "#Q3 Program to find area of triangle\n",
    "base = int(input(\"Enter value of base: \"))\n",
    "height = int(input(\"Enter value of Height: \"))\n",
    "area = base*height/2\n",
    "\n",
    "print(\"Area of Triangle: \", area)"
   ]
  },
  {
   "cell_type": "code",
   "execution_count": 15,
   "id": "c5eb7905",
   "metadata": {},
   "outputs": [
    {
     "name": "stdout",
     "output_type": "stream",
     "text": [
      "Enter value 1: 5\n",
      "Enter value 2: 6\n",
      "Before swapping: \n",
      "Value of var1:  5  & var2:  6\n",
      "Value of var1:  6  & var2:  5\n"
     ]
    }
   ],
   "source": [
    "#Q4 Program to swap two variables\n",
    "var1 = int(input(\"Enter value 1: \"))\n",
    "var2 = int(input(\"Enter value 2: \"))\n",
    "print(\"Before swapping: \")\n",
    "print(\"Value of var1: \" , var1 , \" & var2: \" , var2)\n",
    "temp = var1\n",
    "var1 = var2\n",
    "var2 = temp\n",
    "\n",
    "print(\"Value of var1: \" , var1 , \" & var2: \" , var2)"
   ]
  },
  {
   "cell_type": "code",
   "execution_count": 18,
   "id": "d3838443",
   "metadata": {},
   "outputs": [
    {
     "name": "stdout",
     "output_type": "stream",
     "text": [
      "0.8731585621836999\n"
     ]
    }
   ],
   "source": [
    "#Q5 Program to generate a random number\n",
    "import random\n",
    "x = random.random()\n",
    "print(x)"
   ]
  },
  {
   "cell_type": "code",
   "execution_count": null,
   "id": "a01404a5",
   "metadata": {},
   "outputs": [],
   "source": []
  }
 ],
 "metadata": {
  "kernelspec": {
   "display_name": "Python 3 (ipykernel)",
   "language": "python",
   "name": "python3"
  },
  "language_info": {
   "codemirror_mode": {
    "name": "ipython",
    "version": 3
   },
   "file_extension": ".py",
   "mimetype": "text/x-python",
   "name": "python",
   "nbconvert_exporter": "python",
   "pygments_lexer": "ipython3",
   "version": "3.9.12"
  }
 },
 "nbformat": 4,
 "nbformat_minor": 5
}
