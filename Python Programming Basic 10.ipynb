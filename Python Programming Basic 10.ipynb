{
 "cells": [
  {
   "cell_type": "code",
   "execution_count": null,
   "id": "58dba0f1",
   "metadata": {},
   "outputs": [],
   "source": [
    "#1.Write a Python Program to find sum of elements in a list ?"
   ]
  },
  {
   "cell_type": "code",
   "execution_count": 1,
   "id": "7d7e02a4",
   "metadata": {},
   "outputs": [
    {
     "name": "stdout",
     "output_type": "stream",
     "text": [
      "Enter the No of Entries in a List: 3\n",
      "Enter a element: 5\n",
      "Enter a element: 8\n",
      "Enter a element: 86\n",
      "Sum of Elements: 99\n"
     ]
    }
   ],
   "source": [
    "#Ans_1\n",
    "def sum_List():\n",
    "    x = int(input('Enter the No of Entries in a List: '))\n",
    "    list = []\n",
    "    for i in range(x):\n",
    "        list.append(int(input('Enter a element: ')))\n",
    "    print(f'Sum of Elements: {sum(list)}')\n",
    "\n",
    "sum_List()"
   ]
  },
  {
   "cell_type": "code",
   "execution_count": null,
   "id": "bb81122e",
   "metadata": {},
   "outputs": [],
   "source": [
    "#2.Write a Python Program to multiply all numbers in the list ?"
   ]
  },
  {
   "cell_type": "code",
   "execution_count": 2,
   "id": "ceecc3a9",
   "metadata": {},
   "outputs": [
    {
     "name": "stdout",
     "output_type": "stream",
     "text": [
      "Enter the No of Entries in a List: 3\n",
      "Enter a element: 5\n",
      "Enter a element: 55\n",
      "Enter a element: 21\n",
      "5775\n"
     ]
    }
   ],
   "source": [
    "#Ans_2\n",
    "def mul_List():\n",
    "    x = int(input('Enter the No of Entries in a List: '))\n",
    "    list = []\n",
    "    mul = 1\n",
    "    for i in range(x):\n",
    "        list.append(int(input('Enter a element: ')))\n",
    "    for y in list:\n",
    "        mul = mul * y\n",
    "    print(mul)\n",
    "\n",
    "mul_List()"
   ]
  },
  {
   "cell_type": "code",
   "execution_count": null,
   "id": "336c7a70",
   "metadata": {},
   "outputs": [],
   "source": [
    "#3.Write a Python Program to find smallest number in the list ?"
   ]
  },
  {
   "cell_type": "code",
   "execution_count": 7,
   "id": "c1bd8658",
   "metadata": {},
   "outputs": [
    {
     "name": "stdout",
     "output_type": "stream",
     "text": [
      "Enter the No of elements in a list: 5\n",
      "Enter a Element: 1\n",
      "Enter a Element: 6\n",
      "Enter a Element: 3\n",
      "Enter a Element: 7\n",
      "Enter a Element: 5\n",
      "The Smallest Element in [1, 6, 3, 7, 5] is 1\n"
     ]
    }
   ],
   "source": [
    "#Ans_3\n",
    "def small_List():\n",
    "    x = int(input('Enter the No of elements in a list: '))\n",
    "    list = []\n",
    "    for i in range(x):\n",
    "        list.append(int(input('Enter a Element: ')))\n",
    "    print(f'The Smallest Element in {list} is {sorted(list)[0]}')\n",
    "small_List()"
   ]
  },
  {
   "cell_type": "code",
   "execution_count": null,
   "id": "b1b36802",
   "metadata": {},
   "outputs": [],
   "source": [
    "#4.Write a Python Program to find largest number in the list ?"
   ]
  },
  {
   "cell_type": "code",
   "execution_count": 9,
   "id": "4fcff453",
   "metadata": {},
   "outputs": [
    {
     "name": "stdout",
     "output_type": "stream",
     "text": [
      "Enter the No of elements in a list: 3\n",
      "Enter a Element: 85\n",
      "Enter a Element: 45\n",
      "Enter a Element: 75\n",
      "The Largest Element in [85, 45, 75] is 85\n"
     ]
    }
   ],
   "source": [
    "#Ans_4\n",
    "def largest_Ele():\n",
    "    x = int(input('Enter the No of elements in a list: '))\n",
    "    list = []\n",
    "    for i in range(x):\n",
    "        list.append(int(input('Enter a Element: ')))\n",
    "    print(f'The Largest Element in {list} is {sorted(list, reverse=True)[0]}')\n",
    "\n",
    "largest_Ele()"
   ]
  },
  {
   "cell_type": "code",
   "execution_count": null,
   "id": "766c1092",
   "metadata": {},
   "outputs": [],
   "source": [
    "#5.Write a Python Program to find second largest number in the list ?"
   ]
  },
  {
   "cell_type": "code",
   "execution_count": 10,
   "id": "5e2097db",
   "metadata": {},
   "outputs": [
    {
     "name": "stdout",
     "output_type": "stream",
     "text": [
      "Enter the No of elements in a list: 5\n",
      "Enter a Element: 54\n",
      "Enter a Element: 54\n",
      "Enter a Element: 53\n",
      "Enter a Element: 369\n",
      "Enter a Element: 74\n",
      "The Second Largest Element in [54, 54, 53, 369, 74] is 74\n"
     ]
    }
   ],
   "source": [
    "#Ans_5\n",
    "def secondLargestEleInList():\n",
    "    in_ele = int(input('Enter the No of elements in a list: '))\n",
    "    in_list = []\n",
    "    for ele in range(in_ele):\n",
    "        in_list.append(int(input('Enter a Element: ')))\n",
    "    print(f'The Second Largest Element in {in_list} is {sorted(in_list, reverse=True)[1]}')\n",
    "\n",
    "secondLargestEleInList()"
   ]
  },
  {
   "cell_type": "code",
   "execution_count": null,
   "id": "72461de8",
   "metadata": {},
   "outputs": [],
   "source": [
    "#6.Write a Python Program to find N largest elements in the list ?"
   ]
  },
  {
   "cell_type": "code",
   "execution_count": 11,
   "id": "2b8bdf01",
   "metadata": {},
   "outputs": [
    {
     "name": "stdout",
     "output_type": "stream",
     "text": [
      "Enter the No of elements in a list: 3\n",
      "Enter a Element: 5\n",
      "Enter a Element: 753\n",
      "Enter a Element: 52\n",
      "The 4 Largest Element in [5, 753, 52] is [753, 52, 5]\n"
     ]
    }
   ],
   "source": [
    "#Ans_6\n",
    "def nLargestEleInList(k):\n",
    "    in_ele = int(input('Enter the No of elements in a list: '))\n",
    "    in_list = []\n",
    "    for ele in range(in_ele):\n",
    "        in_list.append(int(input('Enter a Element: ')))\n",
    "    print(f'The {k} Largest Element in {in_list} is {sorted(in_list, reverse=True)[0:k]}')\n",
    "\n",
    "nLargestEleInList(4)"
   ]
  },
  {
   "cell_type": "code",
   "execution_count": null,
   "id": "603e26eb",
   "metadata": {},
   "outputs": [],
   "source": [
    "#7.Write a Python Program to find even numbers in the list ?"
   ]
  },
  {
   "cell_type": "code",
   "execution_count": 14,
   "id": "0395752c",
   "metadata": {},
   "outputs": [
    {
     "name": "stdout",
     "output_type": "stream",
     "text": [
      "Enter the No of elements in a list: 4\n",
      "Enter a Element: 5\n",
      "Enter a Element: 56\n",
      "Enter a Element: 5244\n",
      "Enter a Element: 24\n",
      "The Even Elements in [5, 56, 5244, 24] are [56, 5244, 24]\n"
     ]
    }
   ],
   "source": [
    "#Ans_7\n",
    "def evenNoInList():\n",
    "    in_ele = int(input('Enter the No of elements in a list: '))\n",
    "    in_list = []\n",
    "    even_list = []\n",
    "    for ele in range(in_ele):\n",
    "        in_list.append(int(input('Enter a Element: ')))\n",
    "    for ele in in_list:\n",
    "        if ele%2 == 0:\n",
    "            even_list.append(ele)\n",
    "    print(f'The Even Elements in {in_list} are {even_list}')\n",
    "    \n",
    "evenNoInList()"
   ]
  },
  {
   "cell_type": "code",
   "execution_count": null,
   "id": "be45b737",
   "metadata": {},
   "outputs": [],
   "source": [
    "#8.Write a Python Program to find odd numbers in the list ?"
   ]
  },
  {
   "cell_type": "code",
   "execution_count": 16,
   "id": "e7473e87",
   "metadata": {},
   "outputs": [
    {
     "name": "stdout",
     "output_type": "stream",
     "text": [
      "Enter the No of elements in a list: 5\n",
      "Enter a Element: 52\n",
      "Enter a Element: 5\n",
      "Enter a Element: 863\n",
      "Enter a Element: 236\n",
      "Enter a Element: 25\n",
      "The Even Elements in [52, 5, 863, 236, 25] are [5, 863, 25]\n"
     ]
    }
   ],
   "source": [
    "#Ans_8\n",
    "def oddNoInList():\n",
    "    in_ele = int(input('Enter the No of elements in a list: '))\n",
    "    in_list = []\n",
    "    odd_list = []\n",
    "    for ele in range(in_ele):\n",
    "        in_list.append(int(input('Enter a Element: ')))\n",
    "    for ele in in_list:\n",
    "        if ele%2 != 0:\n",
    "            odd_list.append(ele)\n",
    "    print(f'The Even Elements in {in_list} are {odd_list}')\n",
    "\n",
    "oddNoInList()"
   ]
  },
  {
   "cell_type": "code",
   "execution_count": null,
   "id": "1af5c99f",
   "metadata": {},
   "outputs": [],
   "source": [
    "#9.Write a Python Program to remove empty list from list ?"
   ]
  },
  {
   "cell_type": "code",
   "execution_count": 25,
   "id": "2c116b29",
   "metadata": {},
   "outputs": [
    {
     "name": "stdout",
     "output_type": "stream",
     "text": [
      "Enter all elements of the list: [1, 5, 4, 7, 78]\n",
      "There is no [] List in the list [1, 5, 4, 7, 78]\n"
     ]
    }
   ],
   "source": [
    "#Ans_9\n",
    "def checkEmptyList():\n",
    "    in_list = eval(input('Enter all elements of the list: '))\n",
    "    if [] in in_list:\n",
    "        print(f'There is an Empty list in {in_list} at Position {in_list.index([])}')\n",
    "        in_list.remove([])\n",
    "        print(f'The List after removing [] is {in_list}')\n",
    "    else:\n",
    "        print(f'There is no [] List in the list {in_list}')\n",
    "        \n",
    "checkEmptyList()"
   ]
  },
  {
   "cell_type": "code",
   "execution_count": null,
   "id": "b37330f8",
   "metadata": {},
   "outputs": [],
   "source": [
    "#10.Write a Python Program to Cloning or Copying a list ?"
   ]
  },
  {
   "cell_type": "code",
   "execution_count": 24,
   "id": "39c3f382",
   "metadata": {},
   "outputs": [
    {
     "name": "stdout",
     "output_type": "stream",
     "text": [
      "Enter a list[1,5,4,7,78]\n",
      "[1, 5, 4, 7, 78] 2062161409856\n",
      "[1, 5, 4, 7, 78] 2062162099392\n"
     ]
    }
   ],
   "source": [
    "#Ans_10\n",
    "import copy\n",
    "\n",
    "def cloneList():\n",
    "    in_list = eval(input('Enter a list'))\n",
    "    print(in_list, id(in_list))\n",
    "    cloned_list = in_list.copy()\n",
    "    print(cloned_list, id(cloned_list))\n",
    "\n",
    "cloneList()"
   ]
  },
  {
   "cell_type": "code",
   "execution_count": null,
   "id": "a47cb797",
   "metadata": {},
   "outputs": [],
   "source": [
    "#11.Write a Python Program to count occurences of an element in a list ?"
   ]
  },
  {
   "cell_type": "code",
   "execution_count": 26,
   "id": "829166d4",
   "metadata": {},
   "outputs": [
    {
     "name": "stdout",
     "output_type": "stream",
     "text": [
      "Enter the elements of the list: [1, 5, 4, 7, 78]\n",
      "Enter the element to find: 78\n",
      "There are 1 occurences of 78 in [1, 5, 4, 7, 78]\n"
     ]
    }
   ],
   "source": [
    "#Ans_11\n",
    "def checkOccurence():\n",
    "    in_list = eval(input('Enter the elements of the list: '))\n",
    "    in_num = eval(input('Enter the element to find: '))\n",
    "    count = 0\n",
    "    if in_num in in_list:\n",
    "        for ele in in_list:\n",
    "            if ele == in_num:\n",
    "                count = count+1\n",
    "    print(f'There are {count} occurences of {in_num} in {in_list}')\n",
    "    \n",
    "checkOccurence()"
   ]
  },
  {
   "cell_type": "code",
   "execution_count": null,
   "id": "798cbb91",
   "metadata": {},
   "outputs": [],
   "source": []
  }
 ],
 "metadata": {
  "kernelspec": {
   "display_name": "Python 3",
   "language": "python",
   "name": "python3"
  },
  "language_info": {
   "codemirror_mode": {
    "name": "ipython",
    "version": 3
   },
   "file_extension": ".py",
   "mimetype": "text/x-python",
   "name": "python",
   "nbconvert_exporter": "python",
   "pygments_lexer": "ipython3",
   "version": "3.8.8"
  }
 },
 "nbformat": 4,
 "nbformat_minor": 5
}
