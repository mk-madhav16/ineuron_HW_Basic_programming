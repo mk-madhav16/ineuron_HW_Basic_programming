{
 "cells": [
  {
   "cell_type": "code",
   "execution_count": null,
   "id": "d3365a1c",
   "metadata": {},
   "outputs": [],
   "source": [
    "#1. Write a Python Program to Add two Matrices ?"
   ]
  },
  {
   "cell_type": "code",
   "execution_count": 5,
   "id": "f42c8f8b",
   "metadata": {},
   "outputs": [
    {
     "name": "stdout",
     "output_type": "stream",
     "text": [
      "Inputs: [[1, 2, 3], [4, 5, 6]],[[1, 2, 3], [4, 5, 6]]\n",
      "Output: [[2, 4, 6], [8, 10, 12]]\n"
     ]
    }
   ],
   "source": [
    "#Ans_1\n",
    "def add_Matrices(a,b):\n",
    "    print(f'Inputs: {a},{b}')\n",
    "    if len(a) == len(b):\n",
    "        matrix = []\n",
    "        for i in range(len(a)):\n",
    "            if len(a[i]) == len(b[i]):\n",
    "                matrix.append([])\n",
    "                for x in range(len(a[i])):\n",
    "                    matrix[i].append(a[i][x]+b[i][x])\n",
    "            else:\n",
    "                print('Both Matrices must contains same no of rows and columns') \n",
    "    else:\n",
    "        print('Both Matrices must contains same no of rows and columns')\n",
    "    print(f'Output: {matrix}')\n",
    "    \n",
    "add_Matrices([[1,2,3],[4,5,6]],[[1,2,3],[4,5,6]])"
   ]
  },
  {
   "cell_type": "code",
   "execution_count": null,
   "id": "d8900bd8",
   "metadata": {},
   "outputs": [],
   "source": [
    "#2. Write a Python Program to Multiply two Matrices ?"
   ]
  },
  {
   "cell_type": "code",
   "execution_count": 10,
   "id": "fc241235",
   "metadata": {},
   "outputs": [
    {
     "name": "stdout",
     "output_type": "stream",
     "text": [
      "[[30, 36, 42], [66, 81, 96], [102, 126, 150]]\n"
     ]
    }
   ],
   "source": [
    "#Ans_2\n",
    "a = [[1,2,3],[4,5,6],[7,8,9]]\n",
    "b = [[1,2,3],[4,5,6],[7,8,9]]\n",
    "\n",
    "def multiply_matrice(a,b):\n",
    "    output = []\n",
    "    if len(a[0]) == len(b):\n",
    "        for i in range(len(a[0])):\n",
    "            output.append([0 for i in range(len(b[0]))])\n",
    "        for i in range(len(a)):\n",
    "            for j in range(len(b[0])):\n",
    "                for k in range(len(b)):\n",
    "                    output[i][j] += a[i][k]*b[k][j]\n",
    "        print(output)     \n",
    "    else:\n",
    "        print('Matrix Multiplication is Not Possible')\n",
    "        \n",
    "multiply_matrice(a,b)"
   ]
  },
  {
   "cell_type": "code",
   "execution_count": null,
   "id": "22363d9f",
   "metadata": {},
   "outputs": [],
   "source": [
    "#3. Write a Python Program to transpose a Matrix ?"
   ]
  },
  {
   "cell_type": "code",
   "execution_count": 14,
   "id": "c0a578ad",
   "metadata": {},
   "outputs": [
    {
     "name": "stdout",
     "output_type": "stream",
     "text": [
      "[[1, 2, 3], [4, 5, 6], [7, 8, 9]] -> [[1, 4, 7], [2, 5, 8], [3, 6, 9]]\n",
      "[[1, 2, 3], [4, 5, 6], [7, 8, 9]] -> [[1, 4, 7], [2, 5, 8], [3, 6, 9]]\n"
     ]
    }
   ],
   "source": [
    "#Ans_3\n",
    "def generate_transpose(in_matrix):\n",
    "    out_matrix = []\n",
    "    for x in range(len(in_matrix[0])):\n",
    "        out_matrix.append([0 for i in range(len(in_matrix))])\n",
    "    for i in range(len(in_matrix)):\n",
    "        for j in range(len(in_matrix[i])):\n",
    "            out_matrix[j][i] = in_matrix[i][j]\n",
    "    print(f'{in_matrix} -> {out_matrix}')\n",
    "        \n",
    "generate_transpose(a)\n",
    "generate_transpose(b)"
   ]
  },
  {
   "cell_type": "code",
   "execution_count": null,
   "id": "8f303df1",
   "metadata": {},
   "outputs": [],
   "source": [
    "#4. Write a Python Program to sort Words in an Alphabatical Order ?"
   ]
  },
  {
   "cell_type": "code",
   "execution_count": 18,
   "id": "99d3d93e",
   "metadata": {},
   "outputs": [
    {
     "name": "stdout",
     "output_type": "stream",
     "text": [
      "Enter a String: my name is  madhav\n",
      " Is Madhav My Name\n"
     ]
    }
   ],
   "source": [
    "#Ans_4\n",
    "def sort_String():\n",
    "    in_string = input(\"Enter a String: \").title()\n",
    "    sorted_list = sorted(in_string.split(' '))\n",
    "    print(' '.join(sorted_list))\n",
    "\n",
    "sort_String()"
   ]
  },
  {
   "cell_type": "code",
   "execution_count": null,
   "id": "470b6829",
   "metadata": {},
   "outputs": [],
   "source": [
    "#5. Write a Python Program to remove Punctuations From a String ?"
   ]
  },
  {
   "cell_type": "code",
   "execution_count": 6,
   "id": "0c518278",
   "metadata": {},
   "outputs": [
    {
     "name": "stdout",
     "output_type": "stream",
     "text": [
      "Enter a String: \"my name is - madhav\"\n",
      "my name is  madhav\n"
     ]
    }
   ],
   "source": [
    "#Ans_5\n",
    "def remove_Punctuatuions():\n",
    "    punctuations = '''!()-[]{};:'\"\\,<>./?@#$%^&*_~'''\n",
    "    in_string = input('Enter a String: ')\n",
    "    out_string = ''\n",
    "    for i in in_string:\n",
    "        if i not in punctuations:\n",
    "            out_string += i\n",
    "    print(out_string)\n",
    "    \n",
    "remove_Punctuatuions()"
   ]
  },
  {
   "cell_type": "code",
   "execution_count": null,
   "id": "1ac59a7a",
   "metadata": {},
   "outputs": [],
   "source": []
  }
 ],
 "metadata": {
  "kernelspec": {
   "display_name": "Python 3",
   "language": "python",
   "name": "python3"
  },
  "language_info": {
   "codemirror_mode": {
    "name": "ipython",
    "version": 3
   },
   "file_extension": ".py",
   "mimetype": "text/x-python",
   "name": "python",
   "nbconvert_exporter": "python",
   "pygments_lexer": "ipython3",
   "version": "3.8.8"
  }
 },
 "nbformat": 4,
 "nbformat_minor": 5
}
