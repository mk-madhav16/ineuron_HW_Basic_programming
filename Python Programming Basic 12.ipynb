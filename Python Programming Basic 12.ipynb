{
 "cells": [
  {
   "cell_type": "code",
   "execution_count": null,
   "id": "bdb9cd40",
   "metadata": {},
   "outputs": [],
   "source": [
    "#1.Write a Python program to Extract Unique values dictionary values?"
   ]
  },
  {
   "cell_type": "code",
   "execution_count": 2,
   "id": "e9def82c",
   "metadata": {},
   "outputs": [
    {
     "name": "stdout",
     "output_type": "stream",
     "text": [
      "dict_values(['xyz', 'abc', 'def', 'xyz', 'jkl', 'abc', 'pqr'])\n",
      "Unique Values: ['jkl', 'abc', 'def', 'xyz', 'pqr']\n"
     ]
    }
   ],
   "source": [
    "#Ans_1\n",
    "in_dict = {1:'xyz',2:'abc',3:'def',4:'xyz',5:'jkl',6:'abc',7:'pqr'}\n",
    "print(in_dict.values())\n",
    "print(f'Unique Values: {list(set(in_dict.values()))}')"
   ]
  },
  {
   "cell_type": "code",
   "execution_count": null,
   "id": "adcebb04",
   "metadata": {},
   "outputs": [],
   "source": [
    "#2.Write a Python program to find the sum of all items in a dictionary?"
   ]
  },
  {
   "cell_type": "code",
   "execution_count": 7,
   "id": "0baace53",
   "metadata": {},
   "outputs": [
    {
     "name": "stdout",
     "output_type": "stream",
     "text": [
      "Sum of All items:  300\n"
     ]
    }
   ],
   "source": [
    "#Ans_2\n",
    "in_dict = {'a':10,'b':20,'c':30,'d':40,'e':200}\n",
    "print('Sum of All items: ',sum(in_dict.values()))"
   ]
  },
  {
   "cell_type": "code",
   "execution_count": null,
   "id": "99e3db05",
   "metadata": {},
   "outputs": [],
   "source": [
    "#3.Write a Python program to Merging two Dictionaries?"
   ]
  },
  {
   "cell_type": "code",
   "execution_count": 9,
   "id": "3eef680e",
   "metadata": {},
   "outputs": [
    {
     "name": "stdout",
     "output_type": "stream",
     "text": [
      "{'cousre_name': 'Ineuron', 'course_instructors': ['Sudhanshu Kumar', 'Krish Naik']}\n"
     ]
    }
   ],
   "source": [
    "#Ans_3\n",
    "course_details = {\n",
    "    'cousre_name':'Ineuron'\n",
    "}\n",
    "instructors = {\n",
    "    'course_instructors':['Sudhanshu Kumar','Krish Naik']\n",
    "}\n",
    "course_details.update(instructors)\n",
    "print(course_details)"
   ]
  },
  {
   "cell_type": "code",
   "execution_count": null,
   "id": "4cde2064",
   "metadata": {},
   "outputs": [],
   "source": [
    "#4.Write a Python program to convert key-values list to flat dictionary?"
   ]
  },
  {
   "cell_type": "code",
   "execution_count": 10,
   "id": "d282c817",
   "metadata": {},
   "outputs": [
    {
     "data": {
      "text/plain": [
       "{'A': 10,\n",
       " 'B': 20,\n",
       " 'C': 30,\n",
       " 'D': 40,\n",
       " 'E': 50,\n",
       " 'F': 60,\n",
       " 'G': 70,\n",
       " 'H': 80,\n",
       " 'I': 90,\n",
       " 'J': 100}"
      ]
     },
     "execution_count": 10,
     "metadata": {},
     "output_type": "execute_result"
    }
   ],
   "source": [
    "#Ans_4\n",
    "in_list = [('A',10),('B',20),('C',30),('D',40),('E',50),('F',60),('G',70),('H',80),('I',90),('J',100)]\n",
    "\n",
    "# Method #1\n",
    "dict(in_list)"
   ]
  },
  {
   "cell_type": "code",
   "execution_count": null,
   "id": "6166c7ee",
   "metadata": {},
   "outputs": [],
   "source": [
    "#5.Write a Python program to insertion at the beginning in OrderedDict?"
   ]
  },
  {
   "cell_type": "code",
   "execution_count": 11,
   "id": "cabd6232",
   "metadata": {},
   "outputs": [
    {
     "name": "stdout",
     "output_type": "stream",
     "text": [
      "dict_one OrderedDict([('Apple', 'Iphone'), ('Microsoft', 'Windows'), ('Google', 'chrome')])\n",
      "dict_one OrderedDict([('Apple', 'Iphone'), ('Microsoft', 'Windows'), ('Google', 'chrome'), ('Tesla', 'SpaceX')])\n",
      "dict_one OrderedDict([('Tesla', 'SpaceX'), ('Apple', 'Iphone'), ('Microsoft', 'Windows'), ('Google', 'chrome')])\n"
     ]
    }
   ],
   "source": [
    "#Ans_5\n",
    "from collections import OrderedDict\n",
    "dict_one = OrderedDict({'Apple':'Iphone','Microsoft':'Windows','Google':'chrome'})\n",
    "print('dict_one',dict_one)\n",
    "dict_two = {'Tesla':'SpaceX'}\n",
    "dict_one.update(dict_two)\n",
    "print('dict_one',dict_one)\n",
    "dict_one.move_to_end('Tesla',last=False)\n",
    "print('dict_one',dict_one)"
   ]
  },
  {
   "cell_type": "code",
   "execution_count": null,
   "id": "0c655ed8",
   "metadata": {},
   "outputs": [],
   "source": [
    "#6.Write a Python program to check order of character in string using OrderedDict()?"
   ]
  },
  {
   "cell_type": "code",
   "execution_count": 12,
   "id": "9d2c44ef",
   "metadata": {},
   "outputs": [
    {
     "name": "stdout",
     "output_type": "stream",
     "text": [
      "{'a': 1000, 'f': 200, 'd': 300, 'c': 400, 'b': 500, 'e': 600}\n",
      "OrderedDict([('a', 1000), ('b', 500), ('c', 400), ('d', 300), ('e', 600), ('f', 200)])\n"
     ]
    }
   ],
   "source": [
    "#Ans_6\n",
    "from collections import OrderedDict\n",
    "\n",
    "initial_list = {'a': 1000, 'f': 200, 'd': 300, 'c': 400, 'b': 500, 'e': 600}\n",
    "print(initial_list)\n",
    "\n",
    "final_list = OrderedDict(dict(sorted(initial_list.items())))\n",
    "print(final_list)"
   ]
  },
  {
   "cell_type": "code",
   "execution_count": null,
   "id": "b23e2f6e",
   "metadata": {},
   "outputs": [],
   "source": [
    "#7.Write a Python program to sort Python Dictionaries by Key or Value?"
   ]
  },
  {
   "cell_type": "code",
   "execution_count": 14,
   "id": "6bb60aaf",
   "metadata": {},
   "outputs": [
    {
     "name": "stdout",
     "output_type": "stream",
     "text": [
      "{'a': 100, 'b': 22, 'c': 60, 'd': 13}\n",
      "{'d': 13, 'b': 22, 'c': 60, 'a': 100}\n"
     ]
    }
   ],
   "source": [
    "#Ans_7\n",
    "d_items = {'a':100,'b':22,'c':60,'d':13}\n",
    "\n",
    "def sort_dict(in_dict,sort_type):\n",
    "    if sort_type == 'key':\n",
    "        print(dict(sorted(in_dict.items(), key=lambda x:x[0], reverse=False)))\n",
    "    else:\n",
    "        print(dict(sorted(in_dict.items(), key=lambda x:x[1], reverse=False)))\n",
    "        \n",
    "sort_dict(d_items,'key')        \n",
    "sort_dict(d_items,'value')"
   ]
  },
  {
   "cell_type": "code",
   "execution_count": null,
   "id": "833de189",
   "metadata": {},
   "outputs": [],
   "source": []
  }
 ],
 "metadata": {
  "kernelspec": {
   "display_name": "Python 3",
   "language": "python",
   "name": "python3"
  },
  "language_info": {
   "codemirror_mode": {
    "name": "ipython",
    "version": 3
   },
   "file_extension": ".py",
   "mimetype": "text/x-python",
   "name": "python",
   "nbconvert_exporter": "python",
   "pygments_lexer": "ipython3",
   "version": "3.8.8"
  }
 },
 "nbformat": 4,
 "nbformat_minor": 5
}
