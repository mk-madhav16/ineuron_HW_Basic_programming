{
 "cells": [
  {
   "cell_type": "code",
   "execution_count": 5,
   "id": "3e86b57a",
   "metadata": {},
   "outputs": [
    {
     "name": "stdout",
     "output_type": "stream",
     "text": [
      "Enter the value (in kms): 4\n",
      "Conversion of  4 (in km) to  4000 (in m)\n"
     ]
    }
   ],
   "source": [
    "#Q1 Program to convert km to m\n",
    "var1 = int(input(\"Enter the value (in kms): \"))\n",
    "print(\"Conversion of \", var1, \"(in km) to \", (var1*1000), \"(in m)\")"
   ]
  },
  {
   "cell_type": "code",
   "execution_count": 7,
   "id": "92a61617",
   "metadata": {},
   "outputs": [
    {
     "name": "stdout",
     "output_type": "stream",
     "text": [
      "Enter the temperature (in Celsius): 26\n",
      "Conversion of  26 (in Celsius) to  78.80000000000001 (in Fahrenheit)\n"
     ]
    }
   ],
   "source": [
    "#Q2 Program to convert celsius to fahrenheit\n",
    "var1 = int(input(\"Enter the temperature (in Celsius): \"))\n",
    "print(\"Conversion of \", var1, \"(in Celsius) to \", (var1*1.8+32), \"(in Fahrenheit)\")"
   ]
  },
  {
   "cell_type": "code",
   "execution_count": 3,
   "id": "8575cfeb",
   "metadata": {},
   "outputs": [],
   "source": [
    "#Q3 Program to display calender"
   ]
  },
  {
   "cell_type": "code",
   "execution_count": 11,
   "id": "86d0057c",
   "metadata": {},
   "outputs": [
    {
     "name": "stdout",
     "output_type": "stream",
     "text": [
      "Enter the value of a: 5\n",
      "Enter the value of b: 4\n",
      "Enter the value of c: 8\n",
      "The solution are (-0.4-1.2j) and (-0.4+1.2j)\n"
     ]
    }
   ],
   "source": [
    "#Q4 Program to solve quad equation\n",
    "import cmath\n",
    "\n",
    "a = int(input(\"Enter the value of a: \"))\n",
    "b = int(input(\"Enter the value of b: \"))\n",
    "c = int(input(\"Enter the value of c: \"))\n",
    "\n",
    "# discriminant: b^2 - 4*a*c\n",
    "d = (b**2) - (4*a*c)\n",
    "\n",
    "# oputput: -b +- d\n",
    "sol1 = (-b-cmath.sqrt(d))/(2*a)\n",
    "sol2 = (-b+cmath.sqrt(d))/(2*a)\n",
    "\n",
    "print('The solution are {0} and {1}'.format(sol1,sol2))"
   ]
  },
  {
   "cell_type": "code",
   "execution_count": 13,
   "id": "a0c8fbd8",
   "metadata": {},
   "outputs": [
    {
     "name": "stdout",
     "output_type": "stream",
     "text": [
      "Enter value 1: 5\n",
      "Enter value 2: 9\n",
      "Before swapping: \n",
      "Value of var1:  5  & var2:  9\n",
      "Value of var1:  9  & var2:  5\n"
     ]
    }
   ],
   "source": [
    "#Q5 Program to swap without temp variable\n",
    "var1 = int(input(\"Enter value 1: \"))\n",
    "var2 = int(input(\"Enter value 2: \"))\n",
    "print(\"Before swapping: \")\n",
    "print(\"Value of var1: \" , var1 , \" & var2: \" , var2)\n",
    "var1 += var2\n",
    "var2 = var1 - var2\n",
    "var1 -= var2\n",
    "\n",
    "print(\"Value of var1: \" , var1 , \" & var2: \" , var2)"
   ]
  },
  {
   "cell_type": "code",
   "execution_count": null,
   "id": "5dffdfb6",
   "metadata": {},
   "outputs": [],
   "source": []
  }
 ],
 "metadata": {
  "kernelspec": {
   "display_name": "Python 3 (ipykernel)",
   "language": "python",
   "name": "python3"
  },
  "language_info": {
   "codemirror_mode": {
    "name": "ipython",
    "version": 3
   },
   "file_extension": ".py",
   "mimetype": "text/x-python",
   "name": "python",
   "nbconvert_exporter": "python",
   "pygments_lexer": "ipython3",
   "version": "3.9.12"
  }
 },
 "nbformat": 4,
 "nbformat_minor": 5
}
