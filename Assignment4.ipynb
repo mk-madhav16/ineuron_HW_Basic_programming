{
 "cells": [
  {
   "cell_type": "code",
   "execution_count": 7,
   "id": "1716090c",
   "metadata": {},
   "outputs": [
    {
     "name": "stdout",
     "output_type": "stream",
     "text": [
      "Enter the number:7\n",
      "Factorial of 7 is 5040\n"
     ]
    }
   ],
   "source": [
    "# Write a Python Program to Find the Factorial of a Number?\n",
    "var1 = int(input(\"Enter the number:\"))\n",
    "fact=1\n",
    "for i in range(var1,1,-1):\n",
    "    fact*=i\n",
    "print(\"Factorial of\", var1, \"is\", fact)"
   ]
  },
  {
   "cell_type": "code",
   "execution_count": 9,
   "id": "ed698948",
   "metadata": {},
   "outputs": [
    {
     "name": "stdout",
     "output_type": "stream",
     "text": [
      "Enter the number:15\n",
      "15 * 1 = 15\n",
      "15 * 2 = 30\n",
      "15 * 3 = 45\n",
      "15 * 4 = 60\n",
      "15 * 5 = 75\n",
      "15 * 6 = 90\n",
      "15 * 7 = 105\n",
      "15 * 8 = 120\n",
      "15 * 9 = 135\n",
      "15 * 10 = 150\n"
     ]
    }
   ],
   "source": [
    "# Write a Python Program to Display the multiplication Table?\n",
    "var1 = int(input(\"Enter the number:\"))\n",
    "for i in range(1,11):\n",
    "    print(var1, \"*\", i,\"=\",var1*i)"
   ]
  },
  {
   "cell_type": "code",
   "execution_count": 14,
   "id": "c1cc7078",
   "metadata": {},
   "outputs": [
    {
     "name": "stdout",
     "output_type": "stream",
     "text": [
      "Enter the number:8\n",
      "0 1 1 2 3 5 8 13 "
     ]
    }
   ],
   "source": [
    "# Write a Python Program to Print the Fibonacci sequence?\n",
    "n = int(input(\"Enter the number:\"))\n",
    "#to display nth fibonacci series\n",
    "a,b = 0,1\n",
    "for i in range(n):\n",
    "    print(a,end=(\" \"))\n",
    "    temp = b\n",
    "    b = a+b\n",
    "    a = temp"
   ]
  },
  {
   "cell_type": "code",
   "execution_count": 24,
   "id": "14ffbf1c",
   "metadata": {},
   "outputs": [
    {
     "name": "stdout",
     "output_type": "stream",
     "text": [
      "Enter the number407\n",
      "407 is a Armstrong Number\n"
     ]
    }
   ],
   "source": [
    "# Write a Python Program to Check Armstrong Number?\n",
    "number = int(input(\"Enter the number\"))\n",
    "temp = number\n",
    "add_sum = 0\n",
    "while temp != 0:\n",
    "    k = temp % 10\n",
    "    add_sum += k*k*k\n",
    "    temp = temp//10\n",
    "if add_sum == number:\n",
    "    print(number, 'is a Armstrong Number')\n",
    "else:\n",
    "    print(number, 'is not an Armstrong Number')"
   ]
  },
  {
   "cell_type": "code",
   "execution_count": 21,
   "id": "318647e1",
   "metadata": {},
   "outputs": [
    {
     "name": "stdout",
     "output_type": "stream",
     "text": [
      "Enter the starting digit100\n",
      "Enter the ending digit800\n",
      "153\n",
      "370\n",
      "371\n",
      "407\n"
     ]
    }
   ],
   "source": [
    "# Write a Python Program to Find Armstrong Number in an Interval?\n",
    "A = int(input(\"Enter the starting digit\"))\n",
    "B = int(input(\"Enter the ending digit\"))\n",
    "for i in range(A, B+1):\n",
    "   x = len(str(i))\n",
    "   sum1 = 0\n",
    "   temp = i\n",
    "   while temp > 0:\n",
    "       digit = temp % 10\n",
    "       sum1 += digit ** x\n",
    "       temp //= 10\n",
    "   if i == sum1:\n",
    "       print(i)"
   ]
  },
  {
   "cell_type": "code",
   "execution_count": 17,
   "id": "1aa7fab4",
   "metadata": {},
   "outputs": [
    {
     "name": "stdout",
     "output_type": "stream",
     "text": [
      "Enter the nth number5\n",
      "Sum: 15\n"
     ]
    }
   ],
   "source": [
    "# Write a Python Program to Find the Sum of Natural Numbers?\n",
    "var1 = int(input(\"Enter the nth number\"))\n",
    "total = 0\n",
    "for i in range(1,var1+1):\n",
    "    total+=i\n",
    "print(\"Sum:\",total)"
   ]
  },
  {
   "cell_type": "code",
   "execution_count": null,
   "id": "7abc9580",
   "metadata": {},
   "outputs": [],
   "source": []
  }
 ],
 "metadata": {
  "kernelspec": {
   "display_name": "Python 3 (ipykernel)",
   "language": "python",
   "name": "python3"
  },
  "language_info": {
   "codemirror_mode": {
    "name": "ipython",
    "version": 3
   },
   "file_extension": ".py",
   "mimetype": "text/x-python",
   "name": "python",
   "nbconvert_exporter": "python",
   "pygments_lexer": "ipython3",
   "version": "3.9.12"
  }
 },
 "nbformat": 4,
 "nbformat_minor": 5
}
