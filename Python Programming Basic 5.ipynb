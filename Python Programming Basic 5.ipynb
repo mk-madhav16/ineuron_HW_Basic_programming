{
 "cells": [
  {
   "cell_type": "code",
   "execution_count": null,
   "id": "fe9b9a99",
   "metadata": {},
   "outputs": [],
   "source": [
    "#1. Write a Python Program to Find LCM?"
   ]
  },
  {
   "cell_type": "code",
   "execution_count": 2,
   "id": "bce65156",
   "metadata": {},
   "outputs": [
    {
     "name": "stdout",
     "output_type": "stream",
     "text": [
      "The LCM of 5,15 is 15\n"
     ]
    }
   ],
   "source": [
    "#Ans_1\n",
    "def Lcm(x,y):\n",
    "    if x > y:\n",
    "        greater = x\n",
    "    else:\n",
    "        greater = x\n",
    "    while True:\n",
    "        if((greater%x == 0) and (greater%y == 0)):\n",
    "            lcm = greater\n",
    "            break\n",
    "        else:\n",
    "            greater +=1\n",
    "    print(f'The LCM of {x},{y} is {lcm}')\n",
    "\n",
    "Lcm(5,15)"
   ]
  },
  {
   "cell_type": "code",
   "execution_count": null,
   "id": "ca02538a",
   "metadata": {},
   "outputs": [],
   "source": [
    "#2. Write a Python Program to find HCF ?"
   ]
  },
  {
   "cell_type": "code",
   "execution_count": 8,
   "id": "2314a96b",
   "metadata": {},
   "outputs": [
    {
     "name": "stdout",
     "output_type": "stream",
     "text": [
      "The HCF of 5,15 is 5\n"
     ]
    }
   ],
   "source": [
    "#Ans_2\n",
    "def Hcf(x,y):\n",
    "    if x>y:\n",
    "        smaller = y\n",
    "    else:\n",
    "        smaller = x\n",
    "    for ele in range(1,smaller+1):\n",
    "        if((x%ele == 0) and (y%ele == 0)):\n",
    "            hcf = ele\n",
    "    print(f'The HCF of {x},{y} is {hcf}')\n",
    "\n",
    "Hcf(5,15)"
   ]
  },
  {
   "cell_type": "code",
   "execution_count": null,
   "id": "9ed03d1d",
   "metadata": {},
   "outputs": [],
   "source": [
    "#3. Write a Python Program to Convert Decimal to Binary, Octal and Hexadecimal ?"
   ]
  },
  {
   "cell_type": "code",
   "execution_count": 13,
   "id": "afeeea58",
   "metadata": {},
   "outputs": [
    {
     "name": "stdout",
     "output_type": "stream",
     "text": [
      "Enter a no. : 2542856\n",
      "Binary no. -> 0b1001101100110100001000\n",
      "Octal no. -> 0o11546410\n",
      "Hexadecimal no. -> 0x26cd08\n"
     ]
    }
   ],
   "source": [
    "#Ans_3\n",
    "def Decimal_Toot():\n",
    "    x = int(input('Enter a no. : '))\n",
    "    print(f'Binary no. -> {bin(x)}')\n",
    "    print(f'Octal no. -> {oct(x)}')    \n",
    "    print(f'Hexadecimal no. -> {hex(x)}')    \n",
    "\n",
    "Decimal_Toot()"
   ]
  },
  {
   "cell_type": "code",
   "execution_count": null,
   "id": "695e2fc3",
   "metadata": {},
   "outputs": [],
   "source": [
    "#4. Write a Python Program to Find the ASCII value of a Character ?"
   ]
  },
  {
   "cell_type": "code",
   "execution_count": 16,
   "id": "5fb78aa1",
   "metadata": {},
   "outputs": [
    {
     "name": "stdout",
     "output_type": "stream",
     "text": [
      "Enter a Character: g\n",
      "Ascii Character of g is 103\n"
     ]
    }
   ],
   "source": [
    "#Ans_4\n",
    "def To_Ascii():\n",
    "    x = input('Enter a Character: ')\n",
    "    if len(x) > 1:\n",
    "        print('Enter a one Character')\n",
    "    else:\n",
    "        print(f'Ascii Character of {x} is {ord(x)}')\n",
    "\n",
    "To_Ascii()"
   ]
  },
  {
   "cell_type": "code",
   "execution_count": null,
   "id": "8eb79286",
   "metadata": {},
   "outputs": [],
   "source": [
    "#5. Write a Python Program to Make a Simple Calculator with 4 Basic Mathematical operations ?"
   ]
  },
  {
   "cell_type": "code",
   "execution_count": null,
   "id": "9bd5b4e2",
   "metadata": {},
   "outputs": [
    {
     "name": "stdout",
     "output_type": "stream",
     "text": [
      "Select a Arithmetic Operation:         \n",
      "1.Addition(+)        \n",
      "2.Division(-)        \n",
      "2.Multiplication(*)        \n",
      "4.Division(/)        \n",
      "3.Stop(0)\n",
      "\n",
      "Enter a arithmetic operation -> +\n",
      "\n",
      "Enter 1st Number: 86\n",
      "Enter 2nd Number: 85\n",
      "86+85=171\n",
      "\n"
     ]
    }
   ],
   "source": [
    "#Ans_5\n",
    "import operator\n",
    "\n",
    "ops = { \"+\": operator.add, \"-\": operator.sub, \"*\":operator.mul, \"/\":operator.truediv } \n",
    "\n",
    "print('Select a Arithmetic Operation: \\\n",
    "        \\n1.Addition(+)\\\n",
    "        \\n2.Division(-)\\\n",
    "        \\n2.Multiplication(*)\\\n",
    "        \\n4.Division(/)\\\n",
    "        \\n3.Stop(0)\\n')\n",
    "   \n",
    "\n",
    "while True:\n",
    "    operator = input('Enter a arithmetic operation -> ')\n",
    "    if operator == '0':\n",
    "        print(\"Program Stopped successfully\")\n",
    "        break\n",
    "    elif operator not in ['+','-','*','/']:\n",
    "        print(\"Please enter a valid operator\")\n",
    "    else:\n",
    "        num_1 = int(input('\\nEnter 1st Number: '))\n",
    "        num_2 = int(input('Enter 2nd Number: '))\n",
    "        print(f'{num_1}{operator}{num_2}={ops[operator](num_1,num_2)}\\n')"
   ]
  },
  {
   "cell_type": "code",
   "execution_count": null,
   "id": "2a82f8d7",
   "metadata": {},
   "outputs": [],
   "source": []
  },
  {
   "cell_type": "code",
   "execution_count": null,
   "id": "d7c0cc02",
   "metadata": {},
   "outputs": [],
   "source": []
  },
  {
   "cell_type": "code",
   "execution_count": null,
   "id": "37bdceb2",
   "metadata": {},
   "outputs": [],
   "source": []
  },
  {
   "cell_type": "code",
   "execution_count": null,
   "id": "862403af",
   "metadata": {},
   "outputs": [],
   "source": []
  },
  {
   "cell_type": "code",
   "execution_count": null,
   "id": "4edadb67",
   "metadata": {},
   "outputs": [],
   "source": []
  },
  {
   "cell_type": "code",
   "execution_count": null,
   "id": "85afd4a5",
   "metadata": {},
   "outputs": [],
   "source": []
  },
  {
   "cell_type": "code",
   "execution_count": null,
   "id": "788ad973",
   "metadata": {},
   "outputs": [],
   "source": []
  },
  {
   "cell_type": "code",
   "execution_count": null,
   "id": "0ba7bb40",
   "metadata": {},
   "outputs": [],
   "source": []
  },
  {
   "cell_type": "code",
   "execution_count": null,
   "id": "51284335",
   "metadata": {},
   "outputs": [],
   "source": []
  },
  {
   "cell_type": "code",
   "execution_count": null,
   "id": "5f3a42df",
   "metadata": {},
   "outputs": [],
   "source": []
  },
  {
   "cell_type": "code",
   "execution_count": null,
   "id": "e5319eaf",
   "metadata": {},
   "outputs": [],
   "source": []
  }
 ],
 "metadata": {
  "kernelspec": {
   "display_name": "Python 3",
   "language": "python",
   "name": "python3"
  },
  "language_info": {
   "codemirror_mode": {
    "name": "ipython",
    "version": 3
   },
   "file_extension": ".py",
   "mimetype": "text/x-python",
   "name": "python",
   "nbconvert_exporter": "python",
   "pygments_lexer": "ipython3",
   "version": "3.8.8"
  }
 },
 "nbformat": 4,
 "nbformat_minor": 5
}
