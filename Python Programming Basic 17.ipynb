{
 "cells": [
  {
   "cell_type": "code",
   "execution_count": null,
   "id": "e0adeb70",
   "metadata": {},
   "outputs": [],
   "source": [
    "#1.Create a function that takes three arguments a, b, c and returns the sum of the numbers that are evenly divided by c from the range a, b inclusive ?\n",
    "Examples:\n",
    "`evenly_divisible(1, 10, 20) ➞ 0\n",
    "\n",
    "# No number between 1 and 10 can be evenly divided by 20.\n",
    "evenly_divisible(1, 10, 2) ➞ 30\n",
    "\n",
    "# 2 + 4 + 6 + 8 + 10 = 30\n",
    "evenly_divisible(1, 10, 3) ➞ 18\n",
    "\n",
    "# 3 + 6 + 9 = 18`"
   ]
  },
  {
   "cell_type": "code",
   "execution_count": 1,
   "id": "1597d0c4",
   "metadata": {},
   "outputs": [
    {
     "name": "stdout",
     "output_type": "stream",
     "text": [
      "(1, 10, 20) ➞ 0\n"
     ]
    }
   ],
   "source": [
    "#Ans_1\n",
    "def evenDivisible(a,b,c):\n",
    "    divList = []\n",
    "    for num in range(a,b+1):\n",
    "        if num%c == 0:\n",
    "            divList.append(num)\n",
    "    print(f'{a,b,c} ➞ {sum(divList)}')\n",
    "\n",
    "evenDivisible(1,10,20)"
   ]
  },
  {
   "cell_type": "code",
   "execution_count": null,
   "id": "fa67a175",
   "metadata": {},
   "outputs": [],
   "source": [
    "#2.Create a function that returns True if a given inequality expression is correct and False otherwise ?\n",
    "Examples:\n",
    "correct_signs(\"3 < 7 < 11\") ➞ True\n",
    "correct_signs(\"13 > 44 > 33 > 1\") ➞ False\n",
    "correct_signs(\"1 < 2 < 6 < 9 > 3\") ➞ True"
   ]
  },
  {
   "cell_type": "code",
   "execution_count": 2,
   "id": "c576e582",
   "metadata": {},
   "outputs": [
    {
     "name": "stdout",
     "output_type": "stream",
     "text": [
      "Enter the inequality: 23\n",
      "23 ➞ 23\n",
      "Enter the inequality: 22\n",
      "22 ➞ 22\n",
      "Enter the inequality: 1\n",
      "1 ➞ 1\n"
     ]
    }
   ],
   "source": [
    "#Ans_2\n",
    "def checkEquality():\n",
    "    in_string = input('Enter the inequality: ')\n",
    "    out_bool = eval(in_string)\n",
    "    print(f'{in_string} ➞ {out_bool}')\n",
    "\n",
    "for x in range(3):\n",
    "    checkEquality()"
   ]
  },
  {
   "cell_type": "code",
   "execution_count": null,
   "id": "1e046b5c",
   "metadata": {},
   "outputs": [],
   "source": [
    "#3.Create a function that replaces all the vowels in a string with a specified character ?\n",
    "Examples:\n",
    "replace_vowels(\"the aardvark\", \"#\") ➞ \"th# ##rdv#rk\"\n",
    "replace_vowels(\"minnie mouse\", \"?\") ➞ \"m?nn?? m??s?\"\n",
    "replace_vowels(\"shakespeare\", \"*\") ➞ \"shksp**r\"\n"
   ]
  },
  {
   "cell_type": "code",
   "execution_count": 3,
   "id": "a3169574",
   "metadata": {},
   "outputs": [
    {
     "name": "stdout",
     "output_type": "stream",
     "text": [
      "String: my name is madhav\n",
      "Replacement character: is\n",
      "my name is madhav is ➞ my nissmiss iss missdhissv\n",
      "String: dj\n",
      "Replacement character: jdt\n",
      "dj jdt ➞ dj\n",
      "String: tjd\n",
      "Replacement character: jjd\n",
      "tjd jjd ➞ tjd\n"
     ]
    }
   ],
   "source": [
    "#Ans_3\n",
    "def replaceVowels():\n",
    "    vowels = ['a','e','i','o','u','A','E','I','O','U']\n",
    "    in_string = input(\"String: \")\n",
    "    in_string_copy = in_string\n",
    "    in_char = input('Replacement character: ')\n",
    "    for ele in in_string:\n",
    "        if ele in vowels:\n",
    "            in_string = in_string.replace(ele,in_char)\n",
    "    print(f'{in_string_copy} {in_char} ➞ {in_string}')\n",
    "            \n",
    "for x in range(3):\n",
    "    replaceVowels()"
   ]
  },
  {
   "cell_type": "code",
   "execution_count": null,
   "id": "2c2af13e",
   "metadata": {},
   "outputs": [],
   "source": [
    "#4.Write a function that calculates the factorial of a number recursively ?\n",
    "Examples:\n",
    "factorial(5) ➞ 120\n",
    "factorial(3) ➞ 6\n",
    "factorial(1) ➞ 1\n",
    "factorial(0) ➞ 1"
   ]
  },
  {
   "cell_type": "code",
   "execution_count": 4,
   "id": "2ac5cc67",
   "metadata": {},
   "outputs": [
    {
     "name": "stdout",
     "output_type": "stream",
     "text": [
      "factorial(5) ➞ 3628800\n"
     ]
    }
   ],
   "source": [
    "#Ans_4\n",
    "def factorial(n):\n",
    "    if n==0:\n",
    "        return 1\n",
    "    return n * factorial(n-1)\n",
    "\n",
    "print(f'factorial(5) ➞ {factorial(10)}')"
   ]
  },
  {
   "cell_type": "code",
   "execution_count": null,
   "id": "33e8f5ac",
   "metadata": {},
   "outputs": [],
   "source": [
    "#5.Hamming distance is the number of characters that differ between two strings ?\n",
    "To illustrate:\n",
    "String1: \"abcbba\"\n",
    "String2: \"abcbda\"\n",
    "Hamming Distance: 1 - \"b\" vs. \"d\" is the only difference.\n",
    "Create a function that computes the hamming distance between two strings.\n",
    "Examples:\n",
    "hamming_distance(\"abcde\", \"bcdef\") ➞ 5\n",
    "hamming_distance(\"abcde\", \"abcde\") ➞ 0\n",
    "hamming_distance(\"strong\", \"strung\") ➞ 1\n"
   ]
  },
  {
   "cell_type": "code",
   "execution_count": 5,
   "id": "83235228",
   "metadata": {},
   "outputs": [
    {
     "name": "stdout",
     "output_type": "stream",
     "text": [
      "Enter the String_1: my name is madhav\n",
      "Enter the String_2: hello m\n",
      "Both Strings Must be of Same Length\n",
      "Enter the String_1: hello\n",
      "Enter the String_2: cwe\n",
      "Both Strings Must be of Same Length\n",
      "Enter the String_1: evev\n",
      "Enter the String_2: vev\n",
      "Both Strings Must be of Same Length\n"
     ]
    }
   ],
   "source": [
    "#Ans_5\n",
    "def genHamDistance():\n",
    "    in_string_1 = input('Enter the String_1: ')\n",
    "    in_string_2 = input('Enter the String_2: ')\n",
    "    if len(in_string_1) == len(in_string_2):\n",
    "        count = 0\n",
    "        for i in range(len(in_string_1)):\n",
    "            if in_string_1[i] != in_string_2[i]:\n",
    "                count = count+1\n",
    "        print(f'Hamning Distance b/w {in_string_1} and {in_string_2} ➞ {count}')\n",
    "    else:\n",
    "        print('Both Strings Must be of Same Length')\n",
    "\n",
    "for x in range(3):\n",
    "    genHamDistance()"
   ]
  },
  {
   "cell_type": "code",
   "execution_count": null,
   "id": "17be5cee",
   "metadata": {},
   "outputs": [],
   "source": []
  }
 ],
 "metadata": {
  "kernelspec": {
   "display_name": "Python 3",
   "language": "python",
   "name": "python3"
  },
  "language_info": {
   "codemirror_mode": {
    "name": "ipython",
    "version": 3
   },
   "file_extension": ".py",
   "mimetype": "text/x-python",
   "name": "python",
   "nbconvert_exporter": "python",
   "pygments_lexer": "ipython3",
   "version": "3.8.8"
  }
 },
 "nbformat": 4,
 "nbformat_minor": 5
}
